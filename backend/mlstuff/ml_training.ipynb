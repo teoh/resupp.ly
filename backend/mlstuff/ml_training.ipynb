{
 "cells": [
  {
   "cell_type": "markdown",
   "metadata": {
    "collapsed": true,
    "deletable": true,
    "editable": true
   },
   "source": [
    "# 0: import"
   ]
  },
  {
   "cell_type": "code",
   "execution_count": 1,
   "metadata": {
    "collapsed": false,
    "deletable": true,
    "editable": true
   },
   "outputs": [
    {
     "name": "stderr",
     "output_type": "stream",
     "text": [
      "Using TensorFlow backend.\n"
     ]
    }
   ],
   "source": [
    "from keras.applications.resnet50 import ResNet50\n",
    "from keras.preprocessing import image\n",
    "from keras.applications.resnet50 import preprocess_input, decode_predictions\n",
    "from keras.layers import Flatten, Dense, Input\n",
    "from keras.models import Model\n",
    "from keras.regularizers import l2\n",
    "\n",
    "import numpy as np"
   ]
  },
  {
   "cell_type": "markdown",
   "metadata": {
    "deletable": true,
    "editable": true
   },
   "source": [
    "# 1: base model"
   ]
  },
  {
   "cell_type": "code",
   "execution_count": 2,
   "metadata": {
    "collapsed": false,
    "deletable": true,
    "editable": true
   },
   "outputs": [],
   "source": [
    "def model(input_shape=[224,224,3], num_labels=5, reg=5e-2):\n",
    "    X = Input(shape=input_shape)\n",
    "    base_model = ResNet50(include_top=False, weights='imagenet', input_tensor=X)\n",
    "    fl = Flatten()(base_model.output)\n",
    "    predict = Dense(units=num_labels, activation='sigmoid', kernel_regularizer=l2(reg), kernel_initializer='he_uniform')(fl)\n",
    "    \n",
    "    _m = Model(inputs=X, outputs=predict)\n",
    "    _m.compile(loss='binary_crossentropy', optimizer='Adam')\n",
    "    \n",
    "    return _m"
   ]
  },
  {
   "cell_type": "code",
   "execution_count": 3,
   "metadata": {
    "collapsed": false
   },
   "outputs": [],
   "source": [
    "M = model()\n",
    "# M.summary()"
   ]
  },
  {
   "cell_type": "markdown",
   "metadata": {},
   "source": [
    "# 2: Train"
   ]
  },
  {
   "cell_type": "code",
   "execution_count": 4,
   "metadata": {
    "collapsed": true,
    "deletable": true,
    "editable": true
   },
   "outputs": [],
   "source": [
    "def preprocess_image(img_path):\n",
    "    x = image.load_img(img_path, target_size=(224, 224))\n",
    "    x = image.img_to_array(x)\n",
    "    x = np.expand_dims(x, axis=0)\n",
    "    return x"
   ]
  },
  {
   "cell_type": "markdown",
   "metadata": {},
   "source": [
    "## 2.0: gen img"
   ]
  },
  {
   "cell_type": "code",
   "execution_count": 5,
   "metadata": {
    "collapsed": false
   },
   "outputs": [],
   "source": [
    "# datagen = image.ImageDataGenerator(\n",
    "#     rotation_range=120,\n",
    "#     width_shift_range=0.1,\n",
    "#     height_shift_range=0.1,\n",
    "#     shear_range=0.3,\n",
    "#     zoom_range=0.3,\n",
    "#     horizontal_flip=True,\n",
    "#     fill_mode='nearest'\n",
    "# )"
   ]
  },
  {
   "cell_type": "code",
   "execution_count": 6,
   "metadata": {
    "collapsed": true
   },
   "outputs": [],
   "source": [
    "# def gen_img(x, k, path='./preview', pref='_'):\n",
    "#     i = 0\n",
    "#     for _ in datagen.flow(x, batch_size=1, save_to_dir=path, save_prefix=pref, save_format='jpeg'):\n",
    "#         i += 1\n",
    "#         if i > k:\n",
    "#             break"
   ]
  },
  {
   "cell_type": "code",
   "execution_count": 7,
   "metadata": {
    "collapsed": false
   },
   "outputs": [],
   "source": [
    "# import os\n",
    "# cc = ['./data/potato/', './data/carrot/', './data/egg/', './data/Mushroom/', './data/pasta_sause/']\n",
    "# for i, c in enumerate(cc):\n",
    "#     for img_name in os.listdir(c):\n",
    "#         x = preprocess_image(c+img_name)\n",
    "#         gen_img(x, 20, c)"
   ]
  },
  {
   "cell_type": "code",
   "execution_count": 8,
   "metadata": {
    "collapsed": false
   },
   "outputs": [],
   "source": [
    "# img = image.load_img('./all.JPG', target_size=(224, 224))\n",
    "# x = image.img_to_array(img)\n",
    "# x = np.expand_dims(x, axis=0)\n",
    "# gen_img(x, 20)"
   ]
  },
  {
   "cell_type": "markdown",
   "metadata": {},
   "source": [
    "## 2.1: load images"
   ]
  },
  {
   "cell_type": "code",
   "execution_count": 9,
   "metadata": {
    "collapsed": false
   },
   "outputs": [],
   "source": [
    "import os\n",
    "cc = [\n",
    "    './data/potato/', './data/carrot/', './data/egg/', './data/Mushroom/', './data/pasta_sause/'\n",
    "]\n",
    "train_prep = []\n",
    "train_label = []\n",
    "for i, c in enumerate(cc):\n",
    "    for img_name in os.listdir(c):\n",
    "        x = preprocess_image(c+img_name)\n",
    "        train_prep.append(x)\n",
    "        train_label.append(i)"
   ]
  },
  {
   "cell_type": "code",
   "execution_count": 10,
   "metadata": {
    "collapsed": false
   },
   "outputs": [],
   "source": [
    "train_df = np.squeeze(np.array(train_prep), axis=1)\n",
    "train_df = preprocess_input(train_df)"
   ]
  },
  {
   "cell_type": "code",
   "execution_count": 11,
   "metadata": {
    "collapsed": false
   },
   "outputs": [],
   "source": [
    "train_targets = np.zeros((train_df.shape[0], len(cc)))\n",
    "train_targets[np.arange(train_df.shape[0]), train_label] = 1"
   ]
  },
  {
   "cell_type": "markdown",
   "metadata": {},
   "source": [
    "## 2.2: fit"
   ]
  },
  {
   "cell_type": "code",
   "execution_count": 12,
   "metadata": {
    "collapsed": false
   },
   "outputs": [
    {
     "name": "stdout",
     "output_type": "stream",
     "text": [
      "Epoch 1/20\n",
      "1023/1023 [==============================] - 81s - loss: 0.6276    \n",
      "Epoch 2/20\n",
      "1023/1023 [==============================] - 74s - loss: 0.2229    \n",
      "Epoch 3/20\n",
      "1023/1023 [==============================] - 74s - loss: 0.1249    \n",
      "Epoch 4/20\n",
      "1023/1023 [==============================] - 74s - loss: 0.0892    \n",
      "Epoch 5/20\n",
      "1023/1023 [==============================] - 74s - loss: 0.0948    \n",
      "Epoch 6/20\n",
      "1023/1023 [==============================] - 74s - loss: 0.0840    \n",
      "Epoch 7/20\n",
      "1023/1023 [==============================] - 74s - loss: 0.0901    \n",
      "Epoch 8/20\n",
      "1023/1023 [==============================] - 74s - loss: 0.0921    \n",
      "Epoch 9/20\n",
      "1023/1023 [==============================] - 74s - loss: 0.0838    \n",
      "Epoch 10/20\n",
      "1023/1023 [==============================] - 74s - loss: 0.0506    \n",
      "Epoch 11/20\n",
      "1023/1023 [==============================] - 74s - loss: 0.0445    \n",
      "Epoch 12/20\n",
      "1023/1023 [==============================] - 74s - loss: 0.0453    \n",
      "Epoch 13/20\n",
      "1023/1023 [==============================] - 74s - loss: 0.0404    \n",
      "Epoch 14/20\n",
      "1023/1023 [==============================] - 74s - loss: 0.0367    \n",
      "Epoch 15/20\n",
      "1023/1023 [==============================] - 74s - loss: 0.0866    \n",
      "Epoch 16/20\n",
      "1023/1023 [==============================] - 74s - loss: 0.0493    \n",
      "Epoch 17/20\n",
      "1023/1023 [==============================] - 74s - loss: 0.0318    \n",
      "Epoch 18/20\n",
      "1023/1023 [==============================] - 74s - loss: 0.0424    \n",
      "Epoch 19/20\n",
      "1023/1023 [==============================] - 74s - loss: 0.0509    \n",
      "Epoch 20/20\n",
      "1023/1023 [==============================] - 74s - loss: 0.0400    \n"
     ]
    },
    {
     "data": {
      "text/plain": [
       "<keras.callbacks.History at 0x7fd87466e6d0>"
      ]
     },
     "execution_count": 12,
     "metadata": {},
     "output_type": "execute_result"
    }
   ],
   "source": [
    "M.fit(x=train_df, y=train_targets, batch_size=16, epochs=20, verbose=1, shuffle=True)"
   ]
  },
  {
   "cell_type": "markdown",
   "metadata": {
    "deletable": true,
    "editable": true
   },
   "source": [
    "# 3: predict"
   ]
  },
  {
   "cell_type": "code",
   "execution_count": 15,
   "metadata": {
    "collapsed": false,
    "deletable": true,
    "editable": true
   },
   "outputs": [
    {
     "data": {
      "text/plain": [
       "array([[  1.72642712e-03,   4.00346908e-04,   9.99368966e-01,\n",
       "          1.81403209e-03,   9.12638090e-04]], dtype=float32)"
      ]
     },
     "execution_count": 15,
     "metadata": {},
     "output_type": "execute_result"
    }
   ],
   "source": [
    "x = preprocess_image('./egg_pot.JPG')\n",
    "x = preprocess_input(x)\n",
    "preds = M.predict_on_batch(x)\n",
    "preds"
   ]
  },
  {
   "cell_type": "markdown",
   "metadata": {},
   "source": [
    "# 4: save model weights"
   ]
  },
  {
   "cell_type": "code",
   "execution_count": 14,
   "metadata": {
    "collapsed": true
   },
   "outputs": [],
   "source": [
    "# M.save('./Model_Weights.h5')"
   ]
  }
 ],
 "metadata": {
  "kernelspec": {
   "display_name": "Python 2",
   "language": "python",
   "name": "python2"
  },
  "language_info": {
   "codemirror_mode": {
    "name": "ipython",
    "version": 2
   },
   "file_extension": ".py",
   "mimetype": "text/x-python",
   "name": "python",
   "nbconvert_exporter": "python",
   "pygments_lexer": "ipython2",
   "version": "2.7.6"
  }
 },
 "nbformat": 4,
 "nbformat_minor": 2
}
